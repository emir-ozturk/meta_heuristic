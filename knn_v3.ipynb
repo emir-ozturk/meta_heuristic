{
 "cells": [
  {
   "cell_type": "code",
   "execution_count": 1,
   "id": "e838b83d",
   "metadata": {},
   "outputs": [
    {
     "name": "stderr",
     "output_type": "stream",
     "text": [
      "INFO:knn_v3.knn_problem_improved:New best fitness: 0.9228 (accuracy: 0.9333, penalty: 0.0105)\n",
      "INFO:knn_v3.knn_problem_improved:Best parameters: {'n_neighbors': 5, 'test_size': 0.2, 'weights': 'uniform', 'algorithm': 'ball_tree', 'leaf_size': 30, 'p': 2.0, 'metric': 'euclidean'}\n",
      "INFO:mealpy.swarm_based.PSO.OriginalPSO:OriginalPSO(epoch=5, pop_size=5, c1=2.05, c2=2.05, w=0.4)\n"
     ]
    },
    {
     "name": "stdout",
     "output_type": "stream",
     "text": [
      "KNN Meta Sezgisel Optimizasyon Test\n",
      "========================================\n",
      "Veri seti: 150 örnek, 4 öznitelik\n",
      "\n",
      "Kısa optimizasyon testi başlıyor...\n",
      "Test parametreleri: {'n_neighbors': 5, 'test_size': 0.2, 'weights': 'uniform', 'algorithm': 'ball_tree', 'leaf_size': 30, 'p': 2.0, 'metric': 'euclidean'}\n",
      "Test fitness: 0.9228\n",
      "✅ Decode ve fitness hesaplaması başarılı!\n"
     ]
    },
    {
     "name": "stderr",
     "output_type": "stream",
     "text": [
      "INFO:knn_v3.knn_problem_improved:New best fitness: 0.9552 (accuracy: 0.9565, penalty: 0.0013)\n",
      "INFO:knn_v3.knn_problem_improved:Best parameters: {'n_neighbors': 18, 'test_size': 0.14739482136110268, 'weights': 'distance', 'algorithm': 'auto', 'leaf_size': 74, 'p': 1.001930433930667, 'metric': 'manhattan'}\n",
      "INFO:knn_v3.knn_problem_improved:New best fitness: 0.9918 (accuracy: 1.0000, penalty: 0.0082)\n",
      "INFO:knn_v3.knn_problem_improved:Best parameters: {'n_neighbors': 13, 'test_size': 0.19121340024249453, 'weights': 'distance', 'algorithm': 'ball_tree', 'leaf_size': 56, 'p': 1.0110911390583766, 'metric': 'euclidean'}\n",
      "INFO:mealpy.swarm_based.PSO.OriginalPSO:>>>Problem: P, Epoch: 1, Current best: 0.99182, Global best: 0.99182, Runtime: 0.04987 seconds\n",
      "INFO:mealpy.swarm_based.PSO.OriginalPSO:>>>Problem: P, Epoch: 2, Current best: 0.99182, Global best: 0.99182, Runtime: 0.04336 seconds\n",
      "INFO:knn_v3.knn_problem_improved:New best fitness: 0.9998 (accuracy: 1.0000, penalty: 0.0002)\n",
      "INFO:knn_v3.knn_problem_improved:Best parameters: {'n_neighbors': 13, 'test_size': 0.19822437286351724, 'weights': 'distance', 'algorithm': 'auto', 'leaf_size': 53, 'p': 1.0125568518788102, 'metric': 'euclidean'}\n",
      "INFO:mealpy.swarm_based.PSO.OriginalPSO:>>>Problem: P, Epoch: 3, Current best: 0.99982, Global best: 0.99982, Runtime: 0.04977 seconds\n",
      "INFO:mealpy.swarm_based.PSO.OriginalPSO:>>>Problem: P, Epoch: 4, Current best: 0.99982, Global best: 0.99982, Runtime: 0.04761 seconds\n",
      "INFO:mealpy.swarm_based.PSO.OriginalPSO:>>>Problem: P, Epoch: 5, Current best: 0.99982, Global best: 0.99982, Runtime: 0.04155 seconds\n"
     ]
    },
    {
     "name": "stdout",
     "output_type": "stream",
     "text": [
      "\n",
      "🎯 En iyi fitness: 0.9998\n",
      "🎯 En iyi parametreler: {'n_neighbors': 13, 'test_size': 0.19822437286351724, 'weights': 'distance', 'algorithm': 'auto', 'leaf_size': 53, 'p': 1.0125568518788102, 'metric': 'euclidean'}\n"
     ]
    }
   ],
   "source": [
    "# Test edilmiş optimizasyon\n",
    "import numpy as np\n",
    "import pandas as pd\n",
    "from sklearn.datasets import load_iris\n",
    "from mealpy import PSO\n",
    "\n",
    "from knn_v3.usage_example import decode_solution_example, create_sample_bounds\n",
    "from knn_v3.knn_problem_improved import ImprovedKnnMetaHeuristicProblem\n",
    "from knn_v3.mealpy_compatibility import safe_solve\n",
    "\n",
    "print(\"KNN Meta Sezgisel Optimizasyon Test\")\n",
    "print(\"=\" * 40)\n",
    "\n",
    "# Küçük test\n",
    "data = load_iris()\n",
    "X = pd.DataFrame(data.data, columns=data.feature_names)\n",
    "y = pd.Series(data.target)\n",
    "\n",
    "print(f\"Veri seti: {X.shape[0]} örnek, {X.shape[1]} öznitelik\")\n",
    "\n",
    "# Problem tanımla\n",
    "bounds = create_sample_bounds()\n",
    "\n",
    "# Test için basit problem\n",
    "problem = ImprovedKnnMetaHeuristicProblem(\n",
    "    attributes=X,\n",
    "    target=y,\n",
    "    bounds=bounds,\n",
    "    complexity_weight=0.1,\n",
    "    use_cross_validation=False,  # Daha hızlı test için\n",
    "    verbose=True\n",
    ")\n",
    "\n",
    "# decode_solution metodunu tanımla\n",
    "problem.decode_solution = decode_solution_example\n",
    "\n",
    "# Küçük PSO testi\n",
    "optimizer = PSO.OriginalPSO(epoch=5, pop_size=5)\n",
    "\n",
    "print(\"\\nKısa optimizasyon testi başlıyor...\")\n",
    "\n",
    "# Test çözümü\n",
    "test_solution = np.array([5, 0.2, 0.0, 1.0, 30, 2.0, 0.0])\n",
    "decoded = decode_solution_example(test_solution)\n",
    "print(f\"Test parametreleri: {decoded}\")\n",
    "\n",
    "# Fitness testi\n",
    "try:\n",
    "    fitness = problem.obj_func(test_solution)\n",
    "    print(f\"Test fitness: {fitness:.4f}\")\n",
    "    print(\"✅ Decode ve fitness hesaplaması başarılı!\")\n",
    "except Exception as e:\n",
    "    print(f\"❌ Hata: {e}\")\n",
    "\n",
    "# Kısa optimizasyon\n",
    "try:\n",
    "    best_position, best_fitness = safe_solve(optimizer, problem)\n",
    "    best_params = decode_solution_example(best_position)\n",
    "    \n",
    "    print(f\"\\n🎯 En iyi fitness: {best_fitness:.4f}\")\n",
    "    print(f\"🎯 En iyi parametreler: {best_params}\")\n",
    "except Exception as e:\n",
    "    print(f\"❌ Optimizasyon hatası: {e}\") "
   ]
  },
  {
   "cell_type": "code",
   "execution_count": 2,
   "id": "0477dc82",
   "metadata": {},
   "outputs": [
    {
     "name": "stderr",
     "output_type": "stream",
     "text": [
      "INFO:knn_v3.knn_problem_improved:New best fitness: 0.6908 (accuracy: 0.7013, penalty: 0.0105)\n",
      "INFO:knn_v3.knn_problem_improved:Best parameters: {'n_neighbors': 5, 'test_size': 0.2, 'weights': 'uniform', 'algorithm': 'ball_tree', 'leaf_size': 30, 'p': 2.0, 'metric': 'euclidean'}\n",
      "INFO:mealpy.swarm_based.PSO.OriginalPSO:OriginalPSO(epoch=5, pop_size=5, c1=2.05, c2=2.05, w=0.4)\n",
      "INFO:knn_v3.knn_problem_improved:New best fitness: 0.6924 (accuracy: 0.7000, penalty: 0.0076)\n",
      "INFO:knn_v3.knn_problem_improved:Best parameters: {'n_neighbors': 1, 'test_size': 0.15520489198363913, 'weights': 'uniform', 'algorithm': 'kd_tree', 'leaf_size': 99, 'p': 1.3354601752560291, 'metric': 'euclidean'}\n",
      "INFO:knn_v3.knn_problem_improved:New best fitness: 0.7349 (accuracy: 0.7409, penalty: 0.0060)\n",
      "INFO:knn_v3.knn_problem_improved:Best parameters: {'n_neighbors': 20, 'test_size': 0.3906447502452125, 'weights': 'distance', 'algorithm': 'kd_tree', 'leaf_size': 22, 'p': 1.8051540194943339, 'metric': 'euclidean'}\n",
      "INFO:knn_v3.knn_problem_improved:New best fitness: 0.7366 (accuracy: 0.7390, penalty: 0.0023)\n",
      "INFO:knn_v3.knn_problem_improved:Best parameters: {'n_neighbors': 14, 'test_size': 0.3240334729859501, 'weights': 'uniform', 'algorithm': 'auto', 'leaf_size': 38, 'p': 1.2897880431232474, 'metric': 'euclidean'}\n",
      "INFO:knn_v3.knn_problem_improved:New best fitness: 0.7838 (accuracy: 0.7923, penalty: 0.0085)\n",
      "INFO:knn_v3.knn_problem_improved:Best parameters: {'n_neighbors': 15, 'test_size': 0.16854963086410535, 'weights': 'distance', 'algorithm': 'ball_tree', 'leaf_size': 67, 'p': 1.6357748345573166, 'metric': 'manhattan'}\n"
     ]
    },
    {
     "name": "stdout",
     "output_type": "stream",
     "text": [
      "KNN Meta Sezgisel Optimizasyon Test\n",
      "========================================\n",
      "\n",
      "Kısa optimizasyon testi başlıyor...\n",
      "Test parametreleri: {'n_neighbors': 5, 'test_size': 0.2, 'weights': 'uniform', 'algorithm': 'ball_tree', 'leaf_size': 30, 'p': 2.0, 'metric': 'euclidean'}\n",
      "Test fitness: 0.6908\n",
      "✅ Decode ve fitness hesaplaması başarılı!\n"
     ]
    },
    {
     "name": "stderr",
     "output_type": "stream",
     "text": [
      "INFO:knn_v3.knn_problem_improved:New best fitness: 0.7841 (accuracy: 0.7875, penalty: 0.0034)\n",
      "INFO:knn_v3.knn_problem_improved:Best parameters: {'n_neighbors': 23, 'test_size': 0.10401509419879137, 'weights': 'distance', 'algorithm': 'auto', 'leaf_size': 74, 'p': 1.8568290543452046, 'metric': 'euclidean'}\n",
      "INFO:mealpy.swarm_based.PSO.OriginalPSO:>>>Problem: P, Epoch: 1, Current best: 0.7841199999999999, Global best: 0.7841199999999999, Runtime: 0.07731 seconds\n",
      "INFO:mealpy.swarm_based.PSO.OriginalPSO:>>>Problem: P, Epoch: 2, Current best: 0.7841199999999999, Global best: 0.7841199999999999, Runtime: 0.08714 seconds\n",
      "INFO:mealpy.swarm_based.PSO.OriginalPSO:>>>Problem: P, Epoch: 3, Current best: 0.7841199999999999, Global best: 0.7841199999999999, Runtime: 0.09222 seconds\n",
      "INFO:knn_v3.knn_problem_improved:New best fitness: 0.7882 (accuracy: 0.8000, penalty: 0.0118)\n",
      "INFO:knn_v3.knn_problem_improved:Best parameters: {'n_neighbors': 31, 'test_size': 0.13628017762088185, 'weights': 'distance', 'algorithm': 'auto', 'leaf_size': 79, 'p': 1.6635674962371008, 'metric': 'minkowski'}\n",
      "INFO:knn_v3.knn_problem_improved:New best fitness: 0.7884 (accuracy: 0.8113, penalty: 0.0229)\n",
      "INFO:knn_v3.knn_problem_improved:Best parameters: {'n_neighbors': 22, 'test_size': 0.13724788675778177, 'weights': 'distance', 'algorithm': 'brute', 'leaf_size': 75, 'p': 1.8854387581917693, 'metric': 'manhattan'}\n",
      "INFO:mealpy.swarm_based.PSO.OriginalPSO:>>>Problem: P, Epoch: 4, Current best: 0.7884407547169812, Global best: 0.7884407547169812, Runtime: 0.12244 seconds\n",
      "INFO:knn_v3.knn_problem_improved:New best fitness: 0.8050 (accuracy: 0.8119, penalty: 0.0069)\n",
      "INFO:knn_v3.knn_problem_improved:Best parameters: {'n_neighbors': 22, 'test_size': 0.1309973863957588, 'weights': 'distance', 'algorithm': 'kd_tree', 'leaf_size': 75, 'p': 1.8968826397303953, 'metric': 'euclidean'}\n",
      "INFO:mealpy.swarm_based.PSO.OriginalPSO:>>>Problem: P, Epoch: 5, Current best: 0.8050011881188119, Global best: 0.8050011881188119, Runtime: 0.10187 seconds\n"
     ]
    },
    {
     "name": "stdout",
     "output_type": "stream",
     "text": [
      "\n",
      "🎯 En iyi fitness: 0.8050\n",
      "🎯 En iyi parametreler: {'n_neighbors': 22, 'test_size': 0.1309973863957588, 'weights': 'distance', 'algorithm': 'kd_tree', 'leaf_size': 75, 'p': 1.8968826397303953, 'metric': 'euclidean'}\n"
     ]
    }
   ],
   "source": [
    "# Test edilmiş optimizasyon\n",
    "import numpy as np\n",
    "import pandas as pd\n",
    "from sklearn.datasets import load_iris\n",
    "from mealpy import PSO\n",
    "\n",
    "from knn_v3.usage_example import decode_solution_example, create_sample_bounds\n",
    "from knn_v3.knn_problem_improved import ImprovedKnnMetaHeuristicProblem\n",
    "from knn_v3.mealpy_compatibility import safe_solve\n",
    "from dataset_utils.data import load_diabetes_dataset\n",
    "\n",
    "print(\"KNN Meta Sezgisel Optimizasyon Test\")\n",
    "print(\"=\" * 40)\n",
    "\n",
    "# Küçük test\n",
    "data = load_diabetes_dataset()\n",
    "\n",
    "# Problem tanımla\n",
    "bounds = create_sample_bounds()\n",
    "\n",
    "# Test için basit problem\n",
    "problem = ImprovedKnnMetaHeuristicProblem(\n",
    "    attributes=data[0],\n",
    "    target=data[1],\n",
    "    bounds=bounds,\n",
    "    complexity_weight=0.1,\n",
    "    use_cross_validation=False,  # Daha hızlı test için\n",
    "    verbose=True\n",
    ")\n",
    "\n",
    "# decode_solution metodunu tanımla\n",
    "problem.decode_solution = decode_solution_example\n",
    "\n",
    "# Küçük PSO testi\n",
    "optimizer = PSO.OriginalPSO(epoch=5, pop_size=5)\n",
    "\n",
    "print(\"\\nKısa optimizasyon testi başlıyor...\")\n",
    "\n",
    "# Test çözümü\n",
    "test_solution = np.array([5, 0.2, 0.0, 1.0, 30, 2.0, 0.0])\n",
    "decoded = decode_solution_example(test_solution)\n",
    "print(f\"Test parametreleri: {decoded}\")\n",
    "\n",
    "# Fitness testi\n",
    "try:\n",
    "    fitness = problem.obj_func(test_solution)\n",
    "    print(f\"Test fitness: {fitness:.4f}\")\n",
    "    print(\"✅ Decode ve fitness hesaplaması başarılı!\")\n",
    "except Exception as e:\n",
    "    print(f\"❌ Hata: {e}\")\n",
    "\n",
    "# Kısa optimizasyon\n",
    "try:\n",
    "    best_position, best_fitness = safe_solve(optimizer, problem)\n",
    "    best_params = decode_solution_example(best_position)\n",
    "    \n",
    "    print(f\"\\n🎯 En iyi fitness: {best_fitness:.4f}\")\n",
    "    print(f\"🎯 En iyi parametreler: {best_params}\")\n",
    "except Exception as e:\n",
    "    print(f\"❌ Optimizasyon hatası: {e}\") "
   ]
  }
 ],
 "metadata": {
  "kernelspec": {
   "display_name": "Python 3",
   "language": "python",
   "name": "python3"
  },
  "language_info": {
   "codemirror_mode": {
    "name": "ipython",
    "version": 3
   },
   "file_extension": ".py",
   "mimetype": "text/x-python",
   "name": "python",
   "nbconvert_exporter": "python",
   "pygments_lexer": "ipython3",
   "version": "3.10.6"
  }
 },
 "nbformat": 4,
 "nbformat_minor": 5
}
