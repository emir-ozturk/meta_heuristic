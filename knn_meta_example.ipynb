{
 "cells": [
  {
   "cell_type": "code",
   "execution_count": 1,
   "metadata": {},
   "outputs": [],
   "source": [
    "from mealpy import SMA, GA, PSO, ABC, SOS\n",
    "from knn.knn_problem import KnnMetaHeuristicProblem\n",
    "from knn.knn_problem_bounds import problem_bounds, termination\n",
    "from utils.visualize import plot_fitness\n",
    "import pandas as pd"
   ]
  },
  {
   "cell_type": "markdown",
   "metadata": {},
   "source": [
    "## Diabetes Dataset"
   ]
  },
  {
   "cell_type": "code",
   "execution_count": 2,
   "metadata": {},
   "outputs": [],
   "source": [
    "diabetes_df = pd.read_csv(\"datasets/diabetes.csv\")\n",
    "attributes = diabetes_df.drop(\"Outcome\", axis=1)\n",
    "target = diabetes_df[\"Outcome\"]"
   ]
  },
  {
   "cell_type": "code",
   "execution_count": 3,
   "metadata": {},
   "outputs": [],
   "source": [
    "diabetes_problem = KnnMetaHeuristicProblem(attributes, target, problem_bounds)\n",
    "diabetes_model = SOS.OriginalSOS(epoch=80)"
   ]
  },
  {
   "cell_type": "code",
   "execution_count": 4,
   "metadata": {},
   "outputs": [
    {
     "name": "stderr",
     "output_type": "stream",
     "text": [
      "2025/07/02 12:14:58 AM, INFO, mealpy.bio_based.SOS.OriginalSOS: OriginalSOS(epoch=80, pop_size=100)\n",
      "2025/07/02 12:15:08 AM, INFO, mealpy.bio_based.SOS.OriginalSOS: >>>Problem: P, Epoch: 1, Current best: 0.7967479674796748, Global best: 0.7967479674796748, Runtime: 6.94373 seconds\n",
      "2025/07/02 12:15:14 AM, INFO, mealpy.bio_based.SOS.OriginalSOS: >>>Problem: P, Epoch: 2, Current best: 0.8015873015873016, Global best: 0.8015873015873016, Runtime: 6.21898 seconds\n",
      "2025/07/02 12:15:20 AM, INFO, mealpy.bio_based.SOS.OriginalSOS: >>>Problem: P, Epoch: 3, Current best: 0.8032786885245902, Global best: 0.8032786885245902, Runtime: 6.02473 seconds\n",
      "2025/07/02 12:15:26 AM, INFO, mealpy.bio_based.SOS.OriginalSOS: >>>Problem: P, Epoch: 4, Current best: 0.8037383177570093, Global best: 0.8037383177570093, Runtime: 6.12235 seconds\n",
      "2025/07/02 12:15:32 AM, INFO, mealpy.bio_based.SOS.OriginalSOS: >>>Problem: P, Epoch: 5, Current best: 0.8037383177570093, Global best: 0.8037383177570093, Runtime: 6.28351 seconds\n",
      "2025/07/02 12:15:40 AM, INFO, mealpy.bio_based.SOS.OriginalSOS: >>>Problem: P, Epoch: 6, Current best: 0.8037383177570093, Global best: 0.8037383177570093, Runtime: 7.08733 seconds\n",
      "2025/07/02 12:15:47 AM, INFO, mealpy.bio_based.SOS.OriginalSOS: >>>Problem: P, Epoch: 7, Current best: 0.8037383177570093, Global best: 0.8037383177570093, Runtime: 7.14543 seconds\n",
      "2025/07/02 12:15:53 AM, INFO, mealpy.bio_based.SOS.OriginalSOS: >>>Problem: P, Epoch: 8, Current best: 0.8037383177570093, Global best: 0.8037383177570093, Runtime: 6.70912 seconds\n",
      "2025/07/02 12:15:59 AM, INFO, mealpy.bio_based.SOS.OriginalSOS: >>>Problem: P, Epoch: 9, Current best: 0.8037383177570093, Global best: 0.8037383177570093, Runtime: 6.04625 seconds\n",
      "2025/07/02 12:16:05 AM, INFO, mealpy.bio_based.SOS.OriginalSOS: >>>Problem: P, Epoch: 10, Current best: 0.8037383177570093, Global best: 0.8037383177570093, Runtime: 5.81437 seconds\n",
      "2025/07/02 12:16:12 AM, INFO, mealpy.bio_based.SOS.OriginalSOS: >>>Problem: P, Epoch: 11, Current best: 0.8037383177570093, Global best: 0.8037383177570093, Runtime: 6.41399 seconds\n",
      "2025/07/02 12:16:18 AM, INFO, mealpy.bio_based.SOS.OriginalSOS: >>>Problem: P, Epoch: 12, Current best: 0.8037383177570093, Global best: 0.8037383177570093, Runtime: 6.61151 seconds\n",
      "2025/07/02 12:16:26 AM, INFO, mealpy.bio_based.SOS.OriginalSOS: >>>Problem: P, Epoch: 13, Current best: 0.8037383177570093, Global best: 0.8037383177570093, Runtime: 8.03597 seconds\n",
      "2025/07/02 12:16:34 AM, INFO, mealpy.bio_based.SOS.OriginalSOS: >>>Problem: P, Epoch: 14, Current best: 0.8037383177570093, Global best: 0.8037383177570093, Runtime: 7.42273 seconds\n",
      "2025/07/02 12:16:41 AM, INFO, mealpy.bio_based.SOS.OriginalSOS: >>>Problem: P, Epoch: 15, Current best: 0.8037383177570093, Global best: 0.8037383177570093, Runtime: 6.93953 seconds\n",
      "2025/07/02 12:16:48 AM, INFO, mealpy.bio_based.SOS.OriginalSOS: >>>Problem: P, Epoch: 16, Current best: 0.8037383177570093, Global best: 0.8037383177570093, Runtime: 6.90457 seconds\n",
      "2025/07/02 12:16:55 AM, INFO, mealpy.bio_based.SOS.OriginalSOS: >>>Problem: P, Epoch: 17, Current best: 0.8037383177570093, Global best: 0.8037383177570093, Runtime: 7.18171 seconds\n",
      "2025/07/02 12:17:02 AM, INFO, mealpy.bio_based.SOS.OriginalSOS: >>>Problem: P, Epoch: 18, Current best: 0.8037383177570093, Global best: 0.8037383177570093, Runtime: 7.20867 seconds\n",
      "2025/07/02 12:17:10 AM, INFO, mealpy.bio_based.SOS.OriginalSOS: >>>Problem: P, Epoch: 19, Current best: 0.8037383177570093, Global best: 0.8037383177570093, Runtime: 7.81740 seconds\n",
      "2025/07/02 12:17:18 AM, INFO, mealpy.bio_based.SOS.OriginalSOS: >>>Problem: P, Epoch: 20, Current best: 0.8037383177570093, Global best: 0.8037383177570093, Runtime: 7.74249 seconds\n",
      "2025/07/02 12:17:25 AM, INFO, mealpy.bio_based.SOS.OriginalSOS: >>>Problem: P, Epoch: 21, Current best: 0.8037383177570093, Global best: 0.8037383177570093, Runtime: 7.58663 seconds\n",
      "2025/07/02 12:17:32 AM, INFO, mealpy.bio_based.SOS.OriginalSOS: >>>Problem: P, Epoch: 22, Current best: 0.8037383177570093, Global best: 0.8037383177570093, Runtime: 7.14158 seconds\n",
      "2025/07/02 12:17:39 AM, INFO, mealpy.bio_based.SOS.OriginalSOS: >>>Problem: P, Epoch: 23, Current best: 0.8037383177570093, Global best: 0.8037383177570093, Runtime: 7.14667 seconds\n",
      "2025/07/02 12:17:47 AM, INFO, mealpy.bio_based.SOS.OriginalSOS: >>>Problem: P, Epoch: 24, Current best: 0.8037383177570093, Global best: 0.8037383177570093, Runtime: 7.15399 seconds\n",
      "2025/07/02 12:17:47 AM, WARNING, mealpy.bio_based.SOS.OriginalSOS: Stopping criterion with early stopping (ES) (fitness-based) occurred. End program!\n"
     ]
    },
    {
     "data": {
      "text/plain": [
       "id: 154, target: Objectives: [0.80373832], Fitness: 0.8037383177570093, solution: [ 0.13824935 46.53737429  5.4999      0.5         1.          0.\n",
       "  1.        ]"
      ]
     },
     "execution_count": 4,
     "metadata": {},
     "output_type": "execute_result"
    }
   ],
   "source": [
    "diabetes_model.solve(diabetes_problem, termination=termination, seed=10)"
   ]
  },
  {
   "cell_type": "code",
   "execution_count": 5,
   "metadata": {},
   "outputs": [
    {
     "name": "stdout",
     "output_type": "stream",
     "text": [
      "Best accuracy: 0.8037383177570093\n",
      "Best parameters: \n",
      "{'test_size': 0.13824935051702286, 'n_neighbors': 47, 'leaf_size': 5, 'p': 1, 'weights': 'uniform', 'algorithm': 'auto', 'metric': 'manhattan'}\n"
     ]
    },
    {
     "data": {
      "image/png": "[encoded data removed]",
      "text/plain": [
       "<Figure size 640x480 with 1 Axes>"
      ]
     },
     "metadata": {},
     "output_type": "display_data"
    }
   ],
   "source": [
    "plot_fitness(diabetes_model)"
   ]
  },
  {
   "cell_type": "markdown",
   "metadata": {},
   "source": [
    "## Titanic Dataset"
   ]
  },
  {
   "cell_type": "code",
   "execution_count": 6,
   "metadata": {},
   "outputs": [
    {
     "data": {
      "text/html": [
       "<div>\n",
       "<style scoped>\n",
       "    .dataframe tbody tr th:only-of-type {\n",
       "        vertical-align: middle;\n",
       "    }\n",
       "\n",
       "    .dataframe tbody tr th {\n",
       "        vertical-align: top;\n",
       "    }\n",
       "\n",
       "    .dataframe thead th {\n",
       "        text-align: right;\n",
       "    }\n",
       "</style>\n",
       "<table border=\"1\" class=\"dataframe\">\n",
       "  <thead>\n",
       "    <tr style=\"text-align: right;\">\n",
       "      <th></th>\n",
       "      <th>PassengerId</th>\n",
       "      <th>Survived</th>\n",
       "      <th>Pclass</th>\n",
       "      <th>Name</th>\n",
       "      <th>Sex</th>\n",
       "      <th>Age</th>\n",
       "      <th>SibSp</th>\n",
       "      <th>Parch</th>\n",
       "      <th>Ticket</th>\n",
       "      <th>Fare</th>\n",
       "      <th>Cabin</th>\n",
       "      <th>Embarked</th>\n",
       "    </tr>\n",
       "  </thead>\n",
       "  <tbody>\n",
       "    <tr>\n",
       "      <th>0</th>\n",
       "      <td>1</td>\n",
       "      <td>0</td>\n",
       "      <td>3</td>\n",
       "      <td>Braund, Mr. Owen Harris</td>\n",
       "      <td>male</td>\n",
       "      <td>22.0</td>\n",
       "      <td>1</td>\n",
       "      <td>0</td>\n",
       "      <td>A/5 21171</td>\n",
       "      <td>7.2500</td>\n",
       "      <td>NaN</td>\n",
       "      <td>S</td>\n",
       "    </tr>\n",
       "    <tr>\n",
       "      <th>1</th>\n",
       "      <td>2</td>\n",
       "      <td>1</td>\n",
       "      <td>1</td>\n",
       "      <td>Cumings, Mrs. John Bradley (Florence Briggs Th...</td>\n",
       "      <td>female</td>\n",
       "      <td>38.0</td>\n",
       "      <td>1</td>\n",
       "      <td>0</td>\n",
       "      <td>PC 17599</td>\n",
       "      <td>71.2833</td>\n",
       "      <td>C85</td>\n",
       "      <td>C</td>\n",
       "    </tr>\n",
       "    <tr>\n",
       "      <th>2</th>\n",
       "      <td>3</td>\n",
       "      <td>1</td>\n",
       "      <td>3</td>\n",
       "      <td>Heikkinen, Miss. Laina</td>\n",
       "      <td>female</td>\n",
       "      <td>26.0</td>\n",
       "      <td>0</td>\n",
       "      <td>0</td>\n",
       "      <td>STON/O2. 3101282</td>\n",
       "      <td>7.9250</td>\n",
       "      <td>NaN</td>\n",
       "      <td>S</td>\n",
       "    </tr>\n",
       "  </tbody>\n",
       "</table>\n",
       "</div>"
      ],
      "text/plain": [
       "   PassengerId  Survived  Pclass  \\\n",
       "0            1         0       3   \n",
       "1            2         1       1   \n",
       "2            3         1       3   \n",
       "\n",
       "                                                Name     Sex   Age  SibSp  \\\n",
       "0                            Braund, Mr. Owen Harris    male  22.0      1   \n",
       "1  Cumings, Mrs. John Bradley (Florence Briggs Th...  female  38.0      1   \n",
       "2                             Heikkinen, Miss. Laina  female  26.0      0   \n",
       "\n",
       "   Parch            Ticket     Fare Cabin Embarked  \n",
       "0      0         A/5 21171   7.2500   NaN        S  \n",
       "1      0          PC 17599  71.2833   C85        C  \n",
       "2      0  STON/O2. 3101282   7.9250   NaN        S  "
      ]
     },
     "execution_count": 6,
     "metadata": {},
     "output_type": "execute_result"
    }
   ],
   "source": [
    "titanic_df = pd.read_csv(\"datasets/titanic.csv\")\n",
    "titanic_df.head(3)"
   ]
  },
  {
   "cell_type": "code",
   "execution_count": 7,
   "metadata": {},
   "outputs": [],
   "source": [
    "# Sonuca etki etmeyen değişkenler çıkarılır\n",
    "titanic_df.drop(columns=[\"Name\", \"Ticket\", \"Cabin\", \"Embarked\", \"PassengerId\"], inplace=True)\n",
    "\n",
    "# Değişkenlerin veri tipi dönüştürülür\n",
    "titanic_df[\"Sex\"] = titanic_df[\"Sex\"].map({\"male\": 0, \"female\": 1})\n",
    "\n",
    "# Null değerleri silinir\n",
    "titanic_df.dropna(inplace=True)"
   ]
  },
  {
   "cell_type": "code",
   "execution_count": 8,
   "metadata": {},
   "outputs": [
    {
     "data": {
      "text/html": [
       "<div>\n",
       "<style scoped>\n",
       "    .dataframe tbody tr th:only-of-type {\n",
       "        vertical-align: middle;\n",
       "    }\n",
       "\n",
       "    .dataframe tbody tr th {\n",
       "        vertical-align: top;\n",
       "    }\n",
       "\n",
       "    .dataframe thead th {\n",
       "        text-align: right;\n",
       "    }\n",
       "</style>\n",
       "<table border=\"1\" class=\"dataframe\">\n",
       "  <thead>\n",
       "    <tr style=\"text-align: right;\">\n",
       "      <th></th>\n",
       "      <th>Survived</th>\n",
       "      <th>Pclass</th>\n",
       "      <th>Sex</th>\n",
       "      <th>Age</th>\n",
       "      <th>SibSp</th>\n",
       "      <th>Parch</th>\n",
       "      <th>Fare</th>\n",
       "    </tr>\n",
       "  </thead>\n",
       "  <tbody>\n",
       "    <tr>\n",
       "      <th>0</th>\n",
       "      <td>0</td>\n",
       "      <td>3</td>\n",
       "      <td>0</td>\n",
       "      <td>22.0</td>\n",
       "      <td>1</td>\n",
       "      <td>0</td>\n",
       "      <td>7.2500</td>\n",
       "    </tr>\n",
       "    <tr>\n",
       "      <th>1</th>\n",
       "      <td>1</td>\n",
       "      <td>1</td>\n",
       "      <td>1</td>\n",
       "      <td>38.0</td>\n",
       "      <td>1</td>\n",
       "      <td>0</td>\n",
       "      <td>71.2833</td>\n",
       "    </tr>\n",
       "    <tr>\n",
       "      <th>2</th>\n",
       "      <td>1</td>\n",
       "      <td>3</td>\n",
       "      <td>1</td>\n",
       "      <td>26.0</td>\n",
       "      <td>0</td>\n",
       "      <td>0</td>\n",
       "      <td>7.9250</td>\n",
       "    </tr>\n",
       "  </tbody>\n",
       "</table>\n",
       "</div>"
      ],
      "text/plain": [
       "   Survived  Pclass  Sex   Age  SibSp  Parch     Fare\n",
       "0         0       3    0  22.0      1      0   7.2500\n",
       "1         1       1    1  38.0      1      0  71.2833\n",
       "2         1       3    1  26.0      0      0   7.9250"
      ]
     },
     "execution_count": 8,
     "metadata": {},
     "output_type": "execute_result"
    }
   ],
   "source": [
    "titanic_df.head(3)"
   ]
  },
  {
   "cell_type": "code",
   "execution_count": 9,
   "metadata": {},
   "outputs": [
    {
     "name": "stderr",
     "output_type": "stream",
     "text": [
      "2025/07/02 12:17:47 AM, INFO, mealpy.swarm_based.ABC.OriginalABC: OriginalABC(epoch=75, pop_size=100, n_limits=25)\n",
      "2025/07/02 12:17:52 AM, INFO, mealpy.swarm_based.ABC.OriginalABC: >>>Problem: P, Epoch: 1, Current best: 0.8032786885245902, Global best: 0.8032786885245902, Runtime: 3.28648 seconds\n",
      "2025/07/02 12:17:55 AM, INFO, mealpy.swarm_based.ABC.OriginalABC: >>>Problem: P, Epoch: 2, Current best: 0.8032786885245902, Global best: 0.8032786885245902, Runtime: 3.43100 seconds\n",
      "2025/07/02 12:17:59 AM, INFO, mealpy.swarm_based.ABC.OriginalABC: >>>Problem: P, Epoch: 3, Current best: 0.8064516129032258, Global best: 0.8064516129032258, Runtime: 3.05671 seconds\n",
      "2025/07/02 12:18:02 AM, INFO, mealpy.swarm_based.ABC.OriginalABC: >>>Problem: P, Epoch: 4, Current best: 0.8064516129032258, Global best: 0.8064516129032258, Runtime: 3.10346 seconds\n",
      "2025/07/02 12:18:04 AM, INFO, mealpy.swarm_based.ABC.OriginalABC: >>>Problem: P, Epoch: 5, Current best: 0.8064516129032258, Global best: 0.8064516129032258, Runtime: 2.79364 seconds\n",
      "2025/07/02 12:18:07 AM, INFO, mealpy.swarm_based.ABC.OriginalABC: >>>Problem: P, Epoch: 6, Current best: 0.8108108108108109, Global best: 0.8108108108108109, Runtime: 2.82965 seconds\n",
      "2025/07/02 12:18:10 AM, INFO, mealpy.swarm_based.ABC.OriginalABC: >>>Problem: P, Epoch: 7, Current best: 0.8108108108108109, Global best: 0.8108108108108109, Runtime: 2.72716 seconds\n",
      "2025/07/02 12:18:13 AM, INFO, mealpy.swarm_based.ABC.OriginalABC: >>>Problem: P, Epoch: 8, Current best: 0.8108108108108109, Global best: 0.8108108108108109, Runtime: 2.73845 seconds\n",
      "2025/07/02 12:18:16 AM, INFO, mealpy.swarm_based.ABC.OriginalABC: >>>Problem: P, Epoch: 9, Current best: 0.8108108108108109, Global best: 0.8108108108108109, Runtime: 2.81859 seconds\n",
      "2025/07/02 12:18:18 AM, INFO, mealpy.swarm_based.ABC.OriginalABC: >>>Problem: P, Epoch: 10, Current best: 0.8108108108108109, Global best: 0.8108108108108109, Runtime: 2.73309 seconds\n",
      "2025/07/02 12:18:21 AM, INFO, mealpy.swarm_based.ABC.OriginalABC: >>>Problem: P, Epoch: 11, Current best: 0.8108108108108109, Global best: 0.8108108108108109, Runtime: 2.71584 seconds\n",
      "2025/07/02 12:18:24 AM, INFO, mealpy.swarm_based.ABC.OriginalABC: >>>Problem: P, Epoch: 12, Current best: 0.8108108108108109, Global best: 0.8108108108108109, Runtime: 2.90005 seconds\n",
      "2025/07/02 12:18:27 AM, INFO, mealpy.swarm_based.ABC.OriginalABC: >>>Problem: P, Epoch: 13, Current best: 0.8108108108108109, Global best: 0.8108108108108109, Runtime: 2.72853 seconds\n",
      "2025/07/02 12:18:29 AM, INFO, mealpy.swarm_based.ABC.OriginalABC: >>>Problem: P, Epoch: 14, Current best: 0.8108108108108109, Global best: 0.8108108108108109, Runtime: 2.71951 seconds\n",
      "2025/07/02 12:18:32 AM, INFO, mealpy.swarm_based.ABC.OriginalABC: >>>Problem: P, Epoch: 15, Current best: 0.8108108108108109, Global best: 0.8108108108108109, Runtime: 3.06998 seconds\n",
      "2025/07/02 12:18:35 AM, INFO, mealpy.swarm_based.ABC.OriginalABC: >>>Problem: P, Epoch: 16, Current best: 0.8108108108108109, Global best: 0.8108108108108109, Runtime: 2.89948 seconds\n",
      "2025/07/02 12:18:38 AM, INFO, mealpy.swarm_based.ABC.OriginalABC: >>>Problem: P, Epoch: 17, Current best: 0.8108108108108109, Global best: 0.8108108108108109, Runtime: 3.08825 seconds\n",
      "2025/07/02 12:18:41 AM, INFO, mealpy.swarm_based.ABC.OriginalABC: >>>Problem: P, Epoch: 18, Current best: 0.8108108108108109, Global best: 0.8108108108108109, Runtime: 2.97986 seconds\n",
      "2025/07/02 12:18:44 AM, INFO, mealpy.swarm_based.ABC.OriginalABC: >>>Problem: P, Epoch: 19, Current best: 0.8064516129032258, Global best: 0.8108108108108109, Runtime: 3.09034 seconds\n",
      "2025/07/02 12:18:48 AM, INFO, mealpy.swarm_based.ABC.OriginalABC: >>>Problem: P, Epoch: 20, Current best: 0.8066298342541437, Global best: 0.8108108108108109, Runtime: 3.05091 seconds\n",
      "2025/07/02 12:18:50 AM, INFO, mealpy.swarm_based.ABC.OriginalABC: >>>Problem: P, Epoch: 21, Current best: 0.8066298342541437, Global best: 0.8108108108108109, Runtime: 2.71581 seconds\n",
      "2025/07/02 12:18:53 AM, INFO, mealpy.swarm_based.ABC.OriginalABC: >>>Problem: P, Epoch: 22, Current best: 0.8066298342541437, Global best: 0.8108108108108109, Runtime: 3.00950 seconds\n",
      "2025/07/02 12:18:56 AM, INFO, mealpy.swarm_based.ABC.OriginalABC: >>>Problem: P, Epoch: 23, Current best: 0.8066298342541437, Global best: 0.8108108108108109, Runtime: 2.84882 seconds\n",
      "2025/07/02 12:18:59 AM, INFO, mealpy.swarm_based.ABC.OriginalABC: >>>Problem: P, Epoch: 24, Current best: 0.8066298342541437, Global best: 0.8108108108108109, Runtime: 2.98622 seconds\n",
      "2025/07/02 12:19:02 AM, INFO, mealpy.swarm_based.ABC.OriginalABC: >>>Problem: P, Epoch: 25, Current best: 0.8066298342541437, Global best: 0.8108108108108109, Runtime: 3.22297 seconds\n",
      "2025/07/02 12:19:05 AM, INFO, mealpy.swarm_based.ABC.OriginalABC: >>>Problem: P, Epoch: 26, Current best: 0.8095238095238095, Global best: 0.8108108108108109, Runtime: 2.83021 seconds\n",
      "2025/07/02 12:19:05 AM, WARNING, mealpy.swarm_based.ABC.OriginalABC: Stopping criterion with early stopping (ES) (fitness-based) occurred. End program!\n"
     ]
    },
    {
     "data": {
      "text/plain": [
       "id: 5555, target: Objectives: [0.81081081], Fitness: 0.8108108108108109, solution: [ 0.25780502 16.7024965   4.47763645  3.36094405  1.          0.\n",
       "  0.        ]"
      ]
     },
     "execution_count": 9,
     "metadata": {},
     "output_type": "execute_result"
    }
   ],
   "source": [
    "attributes = titanic_df.drop(\"Survived\", axis=1)\n",
    "target = titanic_df[\"Survived\"]\n",
    "\n",
    "titanic_problem = KnnMetaHeuristicProblem(attributes, target, problem_bounds)\n",
    "titanic_model = ABC.OriginalABC(epoch=75, pop_size=100)\n",
    "titanic_model.solve(titanic_problem, termination=termination)"
   ]
  },
  {
   "cell_type": "code",
   "execution_count": 10,
   "metadata": {},
   "outputs": [
    {
     "name": "stdout",
     "output_type": "stream",
     "text": [
      "Best accuracy: 0.8108108108108109\n",
      "Best parameters: \n",
      "{'test_size': 0.25780501719457827, 'n_neighbors': 17, 'leaf_size': 4, 'p': 3, 'weights': 'uniform', 'algorithm': 'auto', 'metric': 'euclidean'}\n"
     ]
    },
    {
     "data": {
      "image/png": "[encoded data removed]",
      "text/plain": [
       "<Figure size 640x480 with 1 Axes>"
      ]
     },
     "metadata": {},
     "output_type": "display_data"
    }
   ],
   "source": [
    "plot_fitness(titanic_model)"
   ]
  }
 ],
 "metadata": {
  "kernelspec": {
   "display_name": "Python 3",
   "language": "python",
   "name": "python3"
  },
  "language_info": {
   "codemirror_mode": {
    "name": "ipython",
    "version": 3
   },
   "file_extension": ".py",
   "mimetype": "text/x-python",
   "name": "python",
   "nbconvert_exporter": "python",
   "pygments_lexer": "ipython3",
   "version": "3.10.6"
  }
 },
 "nbformat": 4,
 "nbformat_minor": 2
}
