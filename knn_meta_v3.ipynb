{
 "cells": [
  {
   "cell_type": "code",
   "execution_count": 1,
   "metadata": {},
   "outputs": [],
   "source": [
    "from mealpy import SMA, GA, PSO\n",
    "from knn_problem_for_meta_heuristic import KnnProblemForMetaHeuristic\n",
    "from meta_heuristic_visualize import MetaHeuristicVisualize\n",
    "from knn_meta.knn_problem_bounds import problem_bounds, termination\n",
    "import seaborn as sns"
   ]
  },
  {
   "cell_type": "code",
   "execution_count": 27,
   "metadata": {},
   "outputs": [
    {
     "data": {
      "text/html": [
       "<div>\n",
       "<style scoped>\n",
       "    .dataframe tbody tr th:only-of-type {\n",
       "        vertical-align: middle;\n",
       "    }\n",
       "\n",
       "    .dataframe tbody tr th {\n",
       "        vertical-align: top;\n",
       "    }\n",
       "\n",
       "    .dataframe thead th {\n",
       "        text-align: right;\n",
       "    }\n",
       "</style>\n",
       "<table border=\"1\" class=\"dataframe\">\n",
       "  <thead>\n",
       "    <tr style=\"text-align: right;\">\n",
       "      <th></th>\n",
       "      <th>sepal_length</th>\n",
       "      <th>sepal_width</th>\n",
       "      <th>petal_length</th>\n",
       "      <th>petal_width</th>\n",
       "      <th>species</th>\n",
       "    </tr>\n",
       "  </thead>\n",
       "  <tbody>\n",
       "    <tr>\n",
       "      <th>145</th>\n",
       "      <td>6.7</td>\n",
       "      <td>3.0</td>\n",
       "      <td>5.2</td>\n",
       "      <td>2.3</td>\n",
       "      <td>virginica</td>\n",
       "    </tr>\n",
       "    <tr>\n",
       "      <th>146</th>\n",
       "      <td>6.3</td>\n",
       "      <td>2.5</td>\n",
       "      <td>5.0</td>\n",
       "      <td>1.9</td>\n",
       "      <td>virginica</td>\n",
       "    </tr>\n",
       "    <tr>\n",
       "      <th>147</th>\n",
       "      <td>6.5</td>\n",
       "      <td>3.0</td>\n",
       "      <td>5.2</td>\n",
       "      <td>2.0</td>\n",
       "      <td>virginica</td>\n",
       "    </tr>\n",
       "    <tr>\n",
       "      <th>148</th>\n",
       "      <td>6.2</td>\n",
       "      <td>3.4</td>\n",
       "      <td>5.4</td>\n",
       "      <td>2.3</td>\n",
       "      <td>virginica</td>\n",
       "    </tr>\n",
       "    <tr>\n",
       "      <th>149</th>\n",
       "      <td>5.9</td>\n",
       "      <td>3.0</td>\n",
       "      <td>5.1</td>\n",
       "      <td>1.8</td>\n",
       "      <td>virginica</td>\n",
       "    </tr>\n",
       "  </tbody>\n",
       "</table>\n",
       "</div>"
      ],
      "text/plain": [
       "     sepal_length  sepal_width  petal_length  petal_width    species\n",
       "145           6.7          3.0           5.2          2.3  virginica\n",
       "146           6.3          2.5           5.0          1.9  virginica\n",
       "147           6.5          3.0           5.2          2.0  virginica\n",
       "148           6.2          3.4           5.4          2.3  virginica\n",
       "149           5.9          3.0           5.1          1.8  virginica"
      ]
     },
     "execution_count": 27,
     "metadata": {},
     "output_type": "execute_result"
    }
   ],
   "source": [
    "data = sns.load_dataset(\"iris\")\n",
    "data.tail(5)"
   ]
  },
  {
   "cell_type": "code",
   "execution_count": 5,
   "metadata": {},
   "outputs": [
    {
     "data": {
      "text/plain": [
       "species\n",
       "setosa        50\n",
       "versicolor    50\n",
       "virginica     50\n",
       "Name: count, dtype: int64"
      ]
     },
     "execution_count": 5,
     "metadata": {},
     "output_type": "execute_result"
    }
   ],
   "source": [
    "data.species.value_counts()"
   ]
  },
  {
   "cell_type": "code",
   "execution_count": 6,
   "metadata": {},
   "outputs": [],
   "source": [
    "target_key = {\n",
    "    \"setosa\": 0,\n",
    "    \"versicolor\": 1,\n",
    "    \"virginica\": 2\n",
    "}\n",
    "\n",
    "attributes = data.drop(\"species\", axis=1)\n",
    "target = data[\"species\"].map(target_key)"
   ]
  },
  {
   "cell_type": "code",
   "execution_count": 7,
   "metadata": {},
   "outputs": [
    {
     "data": {
      "text/plain": [
       "0      0\n",
       "1      0\n",
       "2      0\n",
       "3      0\n",
       "4      0\n",
       "      ..\n",
       "145    2\n",
       "146    2\n",
       "147    2\n",
       "148    2\n",
       "149    2\n",
       "Name: species, Length: 150, dtype: int64"
      ]
     },
     "execution_count": 7,
     "metadata": {},
     "output_type": "execute_result"
    }
   ],
   "source": [
    "target"
   ]
  },
  {
   "cell_type": "code",
   "execution_count": 19,
   "metadata": {},
   "outputs": [],
   "source": [
    "problem = KnnProblemForMetaHeuristic(attributes, target, problem_bounds)\n",
    "model = PSO.OriginalPSO(epoch=80)"
   ]
  },
  {
   "cell_type": "code",
   "execution_count": 20,
   "metadata": {},
   "outputs": [
    {
     "name": "stderr",
     "output_type": "stream",
     "text": [
      "2025/07/01 07:48:44 PM, INFO, mealpy.swarm_based.PSO.OriginalPSO: OriginalPSO(epoch=80, pop_size=100, c1=2.05, c2=2.05, w=0.4)\n",
      "2025/07/01 07:48:46 PM, INFO, mealpy.swarm_based.PSO.OriginalPSO: >>>Problem: P, Epoch: 1, Current best: 1.0, Global best: 1.0, Runtime: 1.30705 seconds\n",
      "2025/07/01 07:48:48 PM, INFO, mealpy.swarm_based.PSO.OriginalPSO: >>>Problem: P, Epoch: 2, Current best: 1.0, Global best: 1.0, Runtime: 1.34177 seconds\n",
      "2025/07/01 07:48:49 PM, INFO, mealpy.swarm_based.PSO.OriginalPSO: >>>Problem: P, Epoch: 3, Current best: 1.0, Global best: 1.0, Runtime: 1.51524 seconds\n",
      "2025/07/01 07:48:51 PM, INFO, mealpy.swarm_based.PSO.OriginalPSO: >>>Problem: P, Epoch: 4, Current best: 1.0, Global best: 1.0, Runtime: 1.44992 seconds\n",
      "2025/07/01 07:48:52 PM, INFO, mealpy.swarm_based.PSO.OriginalPSO: >>>Problem: P, Epoch: 5, Current best: 1.0, Global best: 1.0, Runtime: 1.86912 seconds\n",
      "2025/07/01 07:48:54 PM, INFO, mealpy.swarm_based.PSO.OriginalPSO: >>>Problem: P, Epoch: 6, Current best: 1.0, Global best: 1.0, Runtime: 1.65034 seconds\n",
      "2025/07/01 07:48:55 PM, INFO, mealpy.swarm_based.PSO.OriginalPSO: >>>Problem: P, Epoch: 7, Current best: 1.0, Global best: 1.0, Runtime: 1.30591 seconds\n",
      "2025/07/01 07:48:57 PM, INFO, mealpy.swarm_based.PSO.OriginalPSO: >>>Problem: P, Epoch: 8, Current best: 1.0, Global best: 1.0, Runtime: 1.29714 seconds\n",
      "2025/07/01 07:48:58 PM, INFO, mealpy.swarm_based.PSO.OriginalPSO: >>>Problem: P, Epoch: 9, Current best: 1.0, Global best: 1.0, Runtime: 1.43144 seconds\n",
      "2025/07/01 07:49:00 PM, INFO, mealpy.swarm_based.PSO.OriginalPSO: >>>Problem: P, Epoch: 10, Current best: 1.0, Global best: 1.0, Runtime: 1.48441 seconds\n",
      "2025/07/01 07:49:01 PM, INFO, mealpy.swarm_based.PSO.OriginalPSO: >>>Problem: P, Epoch: 11, Current best: 1.0, Global best: 1.0, Runtime: 1.85855 seconds\n",
      "2025/07/01 07:49:03 PM, INFO, mealpy.swarm_based.PSO.OriginalPSO: >>>Problem: P, Epoch: 12, Current best: 1.0, Global best: 1.0, Runtime: 1.50205 seconds\n",
      "2025/07/01 07:49:05 PM, INFO, mealpy.swarm_based.PSO.OriginalPSO: >>>Problem: P, Epoch: 13, Current best: 1.0, Global best: 1.0, Runtime: 1.79598 seconds\n",
      "2025/07/01 07:49:07 PM, INFO, mealpy.swarm_based.PSO.OriginalPSO: >>>Problem: P, Epoch: 14, Current best: 1.0, Global best: 1.0, Runtime: 1.79056 seconds\n",
      "2025/07/01 07:49:08 PM, INFO, mealpy.swarm_based.PSO.OriginalPSO: >>>Problem: P, Epoch: 15, Current best: 1.0, Global best: 1.0, Runtime: 1.44875 seconds\n",
      "2025/07/01 07:49:09 PM, INFO, mealpy.swarm_based.PSO.OriginalPSO: >>>Problem: P, Epoch: 16, Current best: 1.0, Global best: 1.0, Runtime: 1.16285 seconds\n",
      "2025/07/01 07:49:10 PM, INFO, mealpy.swarm_based.PSO.OriginalPSO: >>>Problem: P, Epoch: 17, Current best: 1.0, Global best: 1.0, Runtime: 0.96415 seconds\n",
      "2025/07/01 07:49:11 PM, INFO, mealpy.swarm_based.PSO.OriginalPSO: >>>Problem: P, Epoch: 18, Current best: 1.0, Global best: 1.0, Runtime: 1.19718 seconds\n",
      "2025/07/01 07:49:13 PM, INFO, mealpy.swarm_based.PSO.OriginalPSO: >>>Problem: P, Epoch: 19, Current best: 1.0, Global best: 1.0, Runtime: 1.21244 seconds\n",
      "2025/07/01 07:49:14 PM, INFO, mealpy.swarm_based.PSO.OriginalPSO: >>>Problem: P, Epoch: 20, Current best: 1.0, Global best: 1.0, Runtime: 1.23079 seconds\n",
      "2025/07/01 07:49:14 PM, WARNING, mealpy.swarm_based.PSO.OriginalPSO: Stopping criterion with early stopping (ES) (fitness-based) occurred. End program!\n"
     ]
    },
    {
     "data": {
      "text/plain": [
       "id: 293, target: Objectives: [1.], Fitness: 1.0, solution: [ 0.24076539 32.72675393  0.70586135  4.60228927  0.          0.\n",
       "  1.        ]"
      ]
     },
     "execution_count": 20,
     "metadata": {},
     "output_type": "execute_result"
    }
   ],
   "source": [
    "model.solve(problem, termination=termination)"
   ]
  },
  {
   "cell_type": "code",
   "execution_count": 21,
   "metadata": {},
   "outputs": [
    {
     "name": "stdout",
     "output_type": "stream",
     "text": [
      "Best accuracy: 1.0\n",
      "Best parameters: \n",
      "{'test_size': 0.2407653938445045, 'n_neighbors': 33, 'leaf_size': 1, 'p': 5, 'weights': 'distance', 'algorithm': 'auto', 'metric': 'manhattan'}\n"
     ]
    },
    {
     "data": {
      "image/png": "[encoded data removed]",
      "text/plain": [
       "<Figure size 640x480 with 1 Axes>"
      ]
     },
     "metadata": {},
     "output_type": "display_data"
    }
   ],
   "source": [
    "MetaHeuristicVisualize.plot(model)"
   ]
  },
  {
   "cell_type": "code",
   "execution_count": 18,
   "metadata": {},
   "outputs": [
    {
     "data": {
      "text/plain": [
       "1.0"
      ]
     },
     "execution_count": 18,
     "metadata": {},
     "output_type": "execute_result"
    }
   ],
   "source": [
    "from sklearn.model_selection import train_test_split\n",
    "from sklearn.neighbors import KNeighborsClassifier\n",
    "from sklearn.preprocessing import StandardScaler\n",
    "\n",
    "# Normal Yöntem ile test\n",
    "x_train, x_test, y_train, y_test = train_test_split(attributes, target, test_size=0.1621, random_state=42)\n",
    "\n",
    "scaler = StandardScaler()\n",
    "x_train = scaler.fit_transform(x_train)\n",
    "x_test = scaler.transform(x_test)\n",
    "\n",
    "model = KNeighborsClassifier(\n",
    "    n_neighbors=3, \n",
    "    weights='distance', \n",
    "    algorithm='auto', \n",
    "    leaf_size=3, \n",
    "    p=5, \n",
    "    metric='manhattan'\n",
    ")\n",
    "\n",
    "model.fit(x_train, y_train)\n",
    "model.score(x_test, y_test)"
   ]
  },
  {
   "cell_type": "code",
   "execution_count": null,
   "metadata": {},
   "outputs": [],
   "source": []
  }
 ],
 "metadata": {
  "kernelspec": {
   "display_name": "Python 3",
   "language": "python",
   "name": "python3"
  },
  "language_info": {
   "codemirror_mode": {
    "name": "ipython",
    "version": 3
   },
   "file_extension": ".py",
   "mimetype": "text/x-python",
   "name": "python",
   "nbconvert_exporter": "python",
   "pygments_lexer": "ipython3",
   "version": "3.10.6"
  }
 },
 "nbformat": 4,
 "nbformat_minor": 2
}
